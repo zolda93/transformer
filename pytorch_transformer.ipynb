{
 "cells": [
  {
   "cell_type": "code",
   "execution_count": 1,
   "id": "6b92e88f",
   "metadata": {},
   "outputs": [
    {
     "name": "stderr",
     "output_type": "stream",
     "text": [
      "/home/yubaes/anaconda3/envs/DL/lib/python3.7/site-packages/tqdm/auto.py:22: TqdmWarning: IProgress not found. Please update jupyter and ipywidgets. See https://ipywidgets.readthedocs.io/en/stable/user_install.html\n",
      "  from .autonotebook import tqdm as notebook_tqdm\n"
     ]
    }
   ],
   "source": [
    "from pytorch_Transformer import*"
   ]
  },
  {
   "cell_type": "code",
   "execution_count": 2,
   "id": "8c2696a5",
   "metadata": {},
   "outputs": [
    {
     "name": "stdout",
     "output_type": "stream",
     "text": [
      "Epoch: 1, Train loss: 3887.586, Val loss: 105.651, Epoch time = 71.835s\n",
      "Epoch: 2, Train loss: 2739.368, Val loss: 85.871, Epoch time = 71.022s\n",
      "Epoch: 3, Train loss: 2291.016, Val loss: 75.936, Epoch time = 74.857s\n",
      "Epoch: 4, Train loss: 1996.780, Val loss: 69.833, Epoch time = 73.366s\n",
      "Epoch: 5, Train loss: 1779.726, Val loss: 66.282, Epoch time = 74.594s\n",
      "Epoch: 6, Train loss: 1611.659, Val loss: 63.609, Epoch time = 73.267s\n",
      "Epoch: 7, Train loss: 1472.625, Val loss: 61.632, Epoch time = 73.811s\n",
      "Epoch: 8, Train loss: 1354.409, Val loss: 60.857, Epoch time = 72.894s\n",
      "Epoch: 9, Train loss: 1250.940, Val loss: 60.111, Epoch time = 74.522s\n",
      "Epoch: 10, Train loss: 1158.546, Val loss: 60.522, Epoch time = 73.900s\n"
     ]
    }
   ],
   "source": [
    "NUM_EPOCHS = 10\n",
    "\n",
    "for epoch in range(1, NUM_EPOCHS+1):\n",
    "    start_time = timer()\n",
    "    train_loss = train_epoch(translator, optimizer)\n",
    "    end_time = timer()\n",
    "    val_loss = evaluate(translator)\n",
    "    print((f\"Epoch: {epoch}, Train loss: {train_loss:.3f}, Val loss: {val_loss:.3f}, \"f\"Epoch time = {(end_time - start_time):.3f}s\"))"
   ]
  },
  {
   "cell_type": "code",
   "execution_count": 3,
   "id": "e3b88964",
   "metadata": {},
   "outputs": [
    {
     "name": "stdout",
     "output_type": "stream",
     "text": [
      " A group of people stand in front of an Olympic event . \n"
     ]
    }
   ],
   "source": [
    "print(translate(translator, \"Eine Gruppe von Menschen steht vor einem Iglu .\"))"
   ]
  },
  {
   "cell_type": "code",
   "execution_count": null,
   "id": "e74f223b",
   "metadata": {},
   "outputs": [],
   "source": []
  }
 ],
 "metadata": {
  "kernelspec": {
   "display_name": "Python 3",
   "language": "python",
   "name": "python3"
  },
  "language_info": {
   "codemirror_mode": {
    "name": "ipython",
    "version": 3
   },
   "file_extension": ".py",
   "mimetype": "text/x-python",
   "name": "python",
   "nbconvert_exporter": "python",
   "pygments_lexer": "ipython3",
   "version": "3.7.13"
  }
 },
 "nbformat": 4,
 "nbformat_minor": 5
}
